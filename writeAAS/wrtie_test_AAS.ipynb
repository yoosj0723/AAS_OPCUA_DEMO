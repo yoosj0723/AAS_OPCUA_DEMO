{
 "cells": [
  {
   "cell_type": "code",
   "execution_count": 12,
   "metadata": {},
   "outputs": [],
   "source": [
    "from basyx.aas import model\n",
    "import basyx.aas.adapter.json\n"
   ]
  },
  {
   "cell_type": "markdown",
   "metadata": {},
   "source": [
    "# AAS 생성 및 Submodel, Property 추가"
   ]
  },
  {
   "cell_type": "code",
   "execution_count": 5,
   "metadata": {},
   "outputs": [],
   "source": [
    "# AssetInformation 객체 생성 및 AAS 인스턴스 생성\n",
    "test_asset_information = model.AssetInformation(\n",
    "    asset_kind=model.AssetKind.INSTANCE,\n",
    "    global_asset_id='Test_BOT'\n",
    ")\n",
    "\n",
    "aas_test1 = model.AssetAdministrationShell(\n",
    "    id_='test1',  # idntifier 입력\n",
    "    asset_information=test_asset_information\n",
    ")\n",
    "\n",
    "\n",
    "\n",
    "# Submodel 생성 및 추가\n",
    "identifier_submodel1 = 'Identification'\n",
    "identifier_submodel2 = 'TechnicalData'\n",
    "identifier_submodel3 = 'OperationData'\n",
    "identifier_submodel4 = 'Documentation'\n",
    "\n",
    "submodel_identification = model.Submodel(\n",
    "    id_=identifier_submodel1\n",
    ")\n",
    "submodel_technicalData = model.Submodel(\n",
    "    id_=identifier_submodel2\n",
    ")\n",
    "submodel_operationData = model.Submodel(\n",
    "    id_=identifier_submodel3\n",
    ")\n",
    "submodel_documentation = model.Submodel(\n",
    "    id_=identifier_submodel4\n",
    ")\n",
    "\n",
    "aas_test1.submodel.add(model.ModelReference.from_referable(submodel_identification))\n",
    "aas_test1.submodel.add(model.ModelReference.from_referable(submodel_technicalData))\n",
    "aas_test1.submodel.add(model.ModelReference.from_referable(submodel_operationData))\n",
    "aas_test1.submodel.add(model.ModelReference.from_referable(submodel_documentation))\n",
    "\n",
    "\n",
    "\n",
    "# Property 생성 및 추가\n",
    "semantic_reference = model.ExternalReference(\n",
    "    (model.Key(\n",
    "        type_=model.KeyTypes.GLOBAL_REFERENCE,\n",
    "        value='Properties/temp'\n",
    "        # value='http://acplt.org/Properties/SimpleProperty'\n",
    "    ),)\n",
    ")\n",
    "\n",
    "property_temp = model.Property(\n",
    "    id_short='temp',  # submodel 내에서 식별하는 element 문자열 형태의 id\n",
    "    value_type=model.datatypes.Int,  # value의 Data type\n",
    "    value=0,  # Property의 값\n",
    "    semantic_id=semantic_reference  # set semantic reference\n",
    ")\n",
    "\n",
    "submodel_operationData.submodel_element.add(property_temp)"
   ]
  },
  {
   "cell_type": "markdown",
   "metadata": {},
   "source": [
    "# 직렬화: AAS -> JSON 파일"
   ]
  },
  {
   "cell_type": "code",
   "execution_count": 13,
   "metadata": {},
   "outputs": [],
   "source": [
    "submodel_identification.update()\n",
    "submodel_technicalData.update()\n",
    "submodel_operationData.update()\n",
    "submodel_documentation.update()\n",
    "aas_test1.update()\n",
    "\n",
    "obj_store: model.DictObjectStore[model.Identifiable] = model.DictObjectStore()\n",
    "obj_store.add(aas_test1)\n",
    "obj_store.add(submodel_identification)\n",
    "obj_store.add(submodel_technicalData)\n",
    "obj_store.add(submodel_operationData)\n",
    "obj_store.add(submodel_documentation)\n",
    "\n",
    "basyx.aas.adapter.json.write_aas_json_file('./AAS_test1.json', obj_store)"
   ]
  }
 ],
 "metadata": {
  "kernelspec": {
   "display_name": "AAS_basyx_tutorial",
   "language": "python",
   "name": "aas"
  },
  "language_info": {
   "codemirror_mode": {
    "name": "ipython",
    "version": 3
   },
   "file_extension": ".py",
   "mimetype": "text/x-python",
   "name": "python",
   "nbconvert_exporter": "python",
   "pygments_lexer": "ipython3",
   "version": "3.12.7"
  }
 },
 "nbformat": 4,
 "nbformat_minor": 2
}
